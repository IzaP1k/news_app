{
 "cells": [
  {
   "cell_type": "code",
   "execution_count": 5,
   "id": "initial_id",
   "metadata": {
    "collapsed": true,
    "ExecuteTime": {
     "end_time": "2025-01-13T16:44:44.781366Z",
     "start_time": "2025-01-13T16:44:44.754345100Z"
    }
   },
   "outputs": [],
   "source": [
    "import deeplake"
   ]
  },
  {
   "cell_type": "code",
   "execution_count": 6,
   "outputs": [
    {
     "ename": "UnboundLocalError",
     "evalue": "cannot access local variable 'spinner_started' where it is not associated with a value",
     "output_type": "error",
     "traceback": [
      "\u001B[1;31m---------------------------------------------------------------------------\u001B[0m",
      "\u001B[1;31mAttributeError\u001B[0m                            Traceback (most recent call last)",
      "File \u001B[1;32m~\\news_analyze\\venv\\Lib\\site-packages\\deeplake\\util\\spinner.py:38\u001B[0m, in \u001B[0;36mrun_spinner\u001B[1;34m(spinner)\u001B[0m\n\u001B[0;32m     37\u001B[0m \u001B[38;5;28;01mtry\u001B[39;00m:\n\u001B[1;32m---> 38\u001B[0m     \u001B[38;5;28;01mif\u001B[39;00m \u001B[38;5;129;01mnot\u001B[39;00m \u001B[38;5;28misinstance\u001B[39m(sys\u001B[38;5;241m.\u001B[39mstderr, DummyFile) \u001B[38;5;129;01mand\u001B[39;00m \u001B[43mdeeplake\u001B[49m\u001B[38;5;241;43m.\u001B[39;49m\u001B[43mconstants\u001B[49m\u001B[38;5;241m.\u001B[39mSPINNER_ENABLED:\n\u001B[0;32m     39\u001B[0m         spinner\u001B[38;5;241m.\u001B[39mstart()\n",
      "\u001B[1;31mAttributeError\u001B[0m: module 'deeplake' has no attribute 'constants'",
      "\nDuring handling of the above exception, another exception occurred:\n",
      "\u001B[1;31mUnboundLocalError\u001B[0m                         Traceback (most recent call last)",
      "Cell \u001B[1;32mIn[6], line 1\u001B[0m\n\u001B[1;32m----> 1\u001B[0m ds \u001B[38;5;241m=\u001B[39m \u001B[43mdeeplake\u001B[49m\u001B[38;5;241;43m.\u001B[39;49m\u001B[43mload\u001B[49m\u001B[43m(\u001B[49m\u001B[38;5;124;43m'\u001B[39;49m\u001B[38;5;124;43mhub://activeloop/liar-train\u001B[39;49m\u001B[38;5;124;43m'\u001B[39;49m\u001B[43m)\u001B[49m\n",
      "File \u001B[1;32m~\\news_analyze\\venv\\Lib\\site-packages\\deeplake\\util\\spinner.py:150\u001B[0m, in \u001B[0;36mspinner.<locals>.inner\u001B[1;34m(*args, **kwargs)\u001B[0m\n\u001B[0;32m    147\u001B[0m \u001B[38;5;28;01mif\u001B[39;00m kwargs\u001B[38;5;241m.\u001B[39mpop(\u001B[38;5;124m\"\u001B[39m\u001B[38;5;124mspinner\u001B[39m\u001B[38;5;124m\"\u001B[39m, \u001B[38;5;28;01mTrue\u001B[39;00m) \u001B[38;5;129;01mand\u001B[39;00m kwargs\u001B[38;5;241m.\u001B[39mget(\u001B[38;5;124m\"\u001B[39m\u001B[38;5;124mverbose\u001B[39m\u001B[38;5;124m\"\u001B[39m) \u001B[38;5;129;01min\u001B[39;00m (\u001B[38;5;28;01mNone\u001B[39;00m, \u001B[38;5;28;01mTrue\u001B[39;00m):\n\u001B[0;32m    148\u001B[0m     spinner \u001B[38;5;241m=\u001B[39m Spinner()\n\u001B[1;32m--> 150\u001B[0m     \u001B[38;5;28;01mwith\u001B[39;00m run_spinner(spinner):\n\u001B[0;32m    151\u001B[0m         \u001B[38;5;28;01mreturn\u001B[39;00m func(\u001B[38;5;241m*\u001B[39margs, \u001B[38;5;241m*\u001B[39m\u001B[38;5;241m*\u001B[39mkwargs)\n\u001B[0;32m    152\u001B[0m \u001B[38;5;28;01melse\u001B[39;00m:\n",
      "File \u001B[1;32m~\\AppData\\Local\\Programs\\Python\\Python312\\Lib\\contextlib.py:137\u001B[0m, in \u001B[0;36m_GeneratorContextManager.__enter__\u001B[1;34m(self)\u001B[0m\n\u001B[0;32m    135\u001B[0m \u001B[38;5;28;01mdel\u001B[39;00m \u001B[38;5;28mself\u001B[39m\u001B[38;5;241m.\u001B[39margs, \u001B[38;5;28mself\u001B[39m\u001B[38;5;241m.\u001B[39mkwds, \u001B[38;5;28mself\u001B[39m\u001B[38;5;241m.\u001B[39mfunc\n\u001B[0;32m    136\u001B[0m \u001B[38;5;28;01mtry\u001B[39;00m:\n\u001B[1;32m--> 137\u001B[0m     \u001B[38;5;28;01mreturn\u001B[39;00m \u001B[38;5;28;43mnext\u001B[39;49m\u001B[43m(\u001B[49m\u001B[38;5;28;43mself\u001B[39;49m\u001B[38;5;241;43m.\u001B[39;49m\u001B[43mgen\u001B[49m\u001B[43m)\u001B[49m\n\u001B[0;32m    138\u001B[0m \u001B[38;5;28;01mexcept\u001B[39;00m \u001B[38;5;167;01mStopIteration\u001B[39;00m:\n\u001B[0;32m    139\u001B[0m     \u001B[38;5;28;01mraise\u001B[39;00m \u001B[38;5;167;01mRuntimeError\u001B[39;00m(\u001B[38;5;124m\"\u001B[39m\u001B[38;5;124mgenerator didn\u001B[39m\u001B[38;5;124m'\u001B[39m\u001B[38;5;124mt yield\u001B[39m\u001B[38;5;124m\"\u001B[39m) \u001B[38;5;28;01mfrom\u001B[39;00m\u001B[38;5;250m \u001B[39m\u001B[38;5;28;01mNone\u001B[39;00m\n",
      "File \u001B[1;32m~\\news_analyze\\venv\\Lib\\site-packages\\deeplake\\util\\spinner.py:57\u001B[0m, in \u001B[0;36mrun_spinner\u001B[1;34m(spinner)\u001B[0m\n\u001B[0;32m     55\u001B[0m     \u001B[38;5;28;01myield\u001B[39;00m\n\u001B[0;32m     56\u001B[0m \u001B[38;5;28;01mfinally\u001B[39;00m:\n\u001B[1;32m---> 57\u001B[0m     \u001B[38;5;28;01mif\u001B[39;00m \u001B[43mspinner_started\u001B[49m:\n\u001B[0;32m     58\u001B[0m         spinner\u001B[38;5;241m.\u001B[39mstop()\n\u001B[0;32m     59\u001B[0m         sys\u001B[38;5;241m.\u001B[39mstdout \u001B[38;5;241m=\u001B[39m save_stdout\n",
      "\u001B[1;31mUnboundLocalError\u001B[0m: cannot access local variable 'spinner_started' where it is not associated with a value"
     ]
    }
   ],
   "source": [
    "ds = deeplake.load('hub://activeloop/liar-train')"
   ],
   "metadata": {
    "collapsed": false,
    "ExecuteTime": {
     "end_time": "2025-01-13T16:44:46.020361500Z",
     "start_time": "2025-01-13T16:44:45.995593400Z"
    }
   },
   "id": "1efbd0ba867b32af"
  },
  {
   "cell_type": "code",
   "execution_count": null,
   "outputs": [],
   "source": [
    "type(ds) "
   ],
   "metadata": {
    "collapsed": false
   },
   "id": "e849305a825d0e67"
  },
  {
   "cell_type": "code",
   "execution_count": null,
   "outputs": [],
   "source": [],
   "metadata": {
    "collapsed": false
   },
   "id": "49daccf23153fbe"
  }
 ],
 "metadata": {
  "kernelspec": {
   "display_name": "Python 3",
   "language": "python",
   "name": "python3"
  },
  "language_info": {
   "codemirror_mode": {
    "name": "ipython",
    "version": 2
   },
   "file_extension": ".py",
   "mimetype": "text/x-python",
   "name": "python",
   "nbconvert_exporter": "python",
   "pygments_lexer": "ipython2",
   "version": "2.7.6"
  }
 },
 "nbformat": 4,
 "nbformat_minor": 5
}
