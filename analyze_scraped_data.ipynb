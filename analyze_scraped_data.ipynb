{
 "cells": [
  {
   "cell_type": "markdown",
   "source": [
    "# Packages"
   ],
   "metadata": {
    "collapsed": false
   },
   "id": "70955825c44f54fa"
  },
  {
   "cell_type": "code",
   "execution_count": 12,
   "outputs": [],
   "source": [
    "import pandas as pd"
   ],
   "metadata": {
    "collapsed": false,
    "ExecuteTime": {
     "end_time": "2025-01-16T15:07:00.344816300Z",
     "start_time": "2025-01-16T15:07:00.272122800Z"
    }
   },
   "id": "5211c4b324c919e1"
  },
  {
   "cell_type": "code",
   "execution_count": 20,
   "id": "initial_id",
   "metadata": {
    "collapsed": true,
    "ExecuteTime": {
     "end_time": "2025-01-16T15:09:24.819194500Z",
     "start_time": "2025-01-16T15:09:24.670637100Z"
    }
   },
   "outputs": [],
   "source": [
    "from web_scrape_news import get_news_yahoo, get_article_text, create_df_articles, get_article_by_link"
   ]
  },
  {
   "cell_type": "markdown",
   "source": [
    "# Reload"
   ],
   "metadata": {
    "collapsed": false
   },
   "id": "751c4a61c25e4219"
  },
  {
   "cell_type": "code",
   "execution_count": 14,
   "outputs": [
    {
     "name": "stdout",
     "output_type": "stream",
     "text": [
      "The autoreload extension is already loaded. To reload it, use:\n",
      "  %reload_ext autoreload\n"
     ]
    }
   ],
   "source": [
    "%load_ext autoreload\n",
    "%autoreload 2\n",
    "%reload_ext autoreload"
   ],
   "metadata": {
    "collapsed": false,
    "ExecuteTime": {
     "end_time": "2025-01-16T15:07:01.756208200Z",
     "start_time": "2025-01-16T15:07:01.545487200Z"
    }
   },
   "id": "1b75d2eacbc88292"
  },
  {
   "cell_type": "markdown",
   "source": [
    "# Get Yahoo! news"
   ],
   "metadata": {
    "collapsed": false
   },
   "id": "ee02bb35c5abd180"
  },
  {
   "cell_type": "code",
   "execution_count": 4,
   "outputs": [],
   "source": [
    "news_data_df = get_news_yahoo(keywords=['trump', 'hamas', 'macron', 'Tusk', 'election', 'zelensky', 'israel', 'biden', 'wildfires'], max_page=5, filename='news_yahoo_dataset.csv')"
   ],
   "metadata": {
    "collapsed": false,
    "ExecuteTime": {
     "end_time": "2025-01-16T14:52:21.730277900Z",
     "start_time": "2025-01-16T14:52:21.659820400Z"
    }
   },
   "id": "67caee8a333a862"
  },
  {
   "cell_type": "markdown",
   "source": [
    "# Get data"
   ],
   "metadata": {
    "collapsed": false
   },
   "id": "b5a8c7109b7b13de"
  },
  {
   "cell_type": "code",
   "execution_count": 6,
   "outputs": [],
   "source": [
    "df = pd.read_csv('news_yahoo_dataset.csv')"
   ],
   "metadata": {
    "collapsed": false,
    "ExecuteTime": {
     "end_time": "2025-01-16T14:52:27.632305200Z",
     "start_time": "2025-01-16T14:52:27.528022100Z"
    }
   },
   "id": "c2ed2f7fbbbb966d"
  },
  {
   "cell_type": "code",
   "execution_count": 7,
   "outputs": [
    {
     "data": {
      "text/plain": "    Unnamed: 0                                              Title  \\\n0            0  Trump Nominee 'Destroying' Democrat Adam Schif...   \n1            1  Takeaways from the second day of Trump Cabinet...   \n2            2  Stephen Miller preps House Republicans for Tru...   \n3            3  Trump takes full credit for ‘EPIC’ ceasefire a...   \n4            4  Trump credited for ceasefire breakthrough as U...   \n..         ...                                                ...   \n85          85  Why California crews aren't relying on the oce...   \n86          86  From Baptist churches to Buddhist temples, rel...   \n87          87  For LA water issues, misinformation spreads ne...   \n88          88  Los Angeles continues to face air quality warn...   \n89          89  California wildfires could slow the economy an...   \n\n                                   Source  \\\n0            International Business Times   \n1                   CNN ·  via Yahoo News   \n2                                Fox News   \n3       The Independent ·  via Yahoo News   \n4       The Independent ·  via Yahoo News   \n..                                    ...   \n85  The Weather Network ·  via Yahoo News   \n86             NBC News ·  via Yahoo News   \n87     Associated Press ·  via Yahoo News   \n88                               Newsweek   \n89                           Market Watch   \n\n                                          Description  \\\n0   President-elect Donald Trump's nominee for Att...   \n1   Donald Trump’s Cabinet nominees for key roles ...   \n2   President-elect Trump's top aide on immigratio...   \n3   Donald Trump claimed full credit on Wednesday ...   \n4   U.S. officials who resigned over the Biden adm...   \n..                                                ...   \n85  Using ocean water to fight wildfires sounds li...   \n86  United Sikhs, a global humanitarian organizati...   \n87  A billionaire couple was accused of withholdin...   \n88  Los Angeles continues to remain under an Air Q...   \n89  The devastating wildfires that have destroyed ...   \n\n                                                 Link            Time  \n0   https://www.ibtimes.com/trump-nominee-destroyi...      1 hour ago  \n1   https://www.yahoo.com/news/takeaways-second-da...  45 minutes ago  \n2   https://www.foxnews.com/politics/stephen-mille...  15 minutes ago  \n3   https://www.yahoo.com/news/trump-takes-full-cr...     2 hours ago  \n4   https://www.yahoo.com/news/trump-credited-ceas...      1 hour ago  \n..                                                ...             ...  \n85  https://www.yahoo.com/news/why-california-crew...  14 minutes ago  \n86  https://www.yahoo.com/news/baptist-churches-bu...  20 minutes ago  \n87  https://www.yahoo.com/news/la-water-issues-mis...  22 minutes ago  \n88  https://www.newsweek.com/los-angeles-continues...     2 hours ago  \n89  https://www.marketwatch.com/story/california-w...  49 minutes ago  \n\n[90 rows x 6 columns]",
      "text/html": "<div>\n<style scoped>\n    .dataframe tbody tr th:only-of-type {\n        vertical-align: middle;\n    }\n\n    .dataframe tbody tr th {\n        vertical-align: top;\n    }\n\n    .dataframe thead th {\n        text-align: right;\n    }\n</style>\n<table border=\"1\" class=\"dataframe\">\n  <thead>\n    <tr style=\"text-align: right;\">\n      <th></th>\n      <th>Unnamed: 0</th>\n      <th>Title</th>\n      <th>Source</th>\n      <th>Description</th>\n      <th>Link</th>\n      <th>Time</th>\n    </tr>\n  </thead>\n  <tbody>\n    <tr>\n      <th>0</th>\n      <td>0</td>\n      <td>Trump Nominee 'Destroying' Democrat Adam Schif...</td>\n      <td>International Business Times</td>\n      <td>President-elect Donald Trump's nominee for Att...</td>\n      <td>https://www.ibtimes.com/trump-nominee-destroyi...</td>\n      <td>1 hour ago</td>\n    </tr>\n    <tr>\n      <th>1</th>\n      <td>1</td>\n      <td>Takeaways from the second day of Trump Cabinet...</td>\n      <td>CNN ·  via Yahoo News</td>\n      <td>Donald Trump’s Cabinet nominees for key roles ...</td>\n      <td>https://www.yahoo.com/news/takeaways-second-da...</td>\n      <td>45 minutes ago</td>\n    </tr>\n    <tr>\n      <th>2</th>\n      <td>2</td>\n      <td>Stephen Miller preps House Republicans for Tru...</td>\n      <td>Fox News</td>\n      <td>President-elect Trump's top aide on immigratio...</td>\n      <td>https://www.foxnews.com/politics/stephen-mille...</td>\n      <td>15 minutes ago</td>\n    </tr>\n    <tr>\n      <th>3</th>\n      <td>3</td>\n      <td>Trump takes full credit for ‘EPIC’ ceasefire a...</td>\n      <td>The Independent ·  via Yahoo News</td>\n      <td>Donald Trump claimed full credit on Wednesday ...</td>\n      <td>https://www.yahoo.com/news/trump-takes-full-cr...</td>\n      <td>2 hours ago</td>\n    </tr>\n    <tr>\n      <th>4</th>\n      <td>4</td>\n      <td>Trump credited for ceasefire breakthrough as U...</td>\n      <td>The Independent ·  via Yahoo News</td>\n      <td>U.S. officials who resigned over the Biden adm...</td>\n      <td>https://www.yahoo.com/news/trump-credited-ceas...</td>\n      <td>1 hour ago</td>\n    </tr>\n    <tr>\n      <th>...</th>\n      <td>...</td>\n      <td>...</td>\n      <td>...</td>\n      <td>...</td>\n      <td>...</td>\n      <td>...</td>\n    </tr>\n    <tr>\n      <th>85</th>\n      <td>85</td>\n      <td>Why California crews aren't relying on the oce...</td>\n      <td>The Weather Network ·  via Yahoo News</td>\n      <td>Using ocean water to fight wildfires sounds li...</td>\n      <td>https://www.yahoo.com/news/why-california-crew...</td>\n      <td>14 minutes ago</td>\n    </tr>\n    <tr>\n      <th>86</th>\n      <td>86</td>\n      <td>From Baptist churches to Buddhist temples, rel...</td>\n      <td>NBC News ·  via Yahoo News</td>\n      <td>United Sikhs, a global humanitarian organizati...</td>\n      <td>https://www.yahoo.com/news/baptist-churches-bu...</td>\n      <td>20 minutes ago</td>\n    </tr>\n    <tr>\n      <th>87</th>\n      <td>87</td>\n      <td>For LA water issues, misinformation spreads ne...</td>\n      <td>Associated Press ·  via Yahoo News</td>\n      <td>A billionaire couple was accused of withholdin...</td>\n      <td>https://www.yahoo.com/news/la-water-issues-mis...</td>\n      <td>22 minutes ago</td>\n    </tr>\n    <tr>\n      <th>88</th>\n      <td>88</td>\n      <td>Los Angeles continues to face air quality warn...</td>\n      <td>Newsweek</td>\n      <td>Los Angeles continues to remain under an Air Q...</td>\n      <td>https://www.newsweek.com/los-angeles-continues...</td>\n      <td>2 hours ago</td>\n    </tr>\n    <tr>\n      <th>89</th>\n      <td>89</td>\n      <td>California wildfires could slow the economy an...</td>\n      <td>Market Watch</td>\n      <td>The devastating wildfires that have destroyed ...</td>\n      <td>https://www.marketwatch.com/story/california-w...</td>\n      <td>49 minutes ago</td>\n    </tr>\n  </tbody>\n</table>\n<p>90 rows × 6 columns</p>\n</div>"
     },
     "execution_count": 7,
     "metadata": {},
     "output_type": "execute_result"
    }
   ],
   "source": [
    "df"
   ],
   "metadata": {
    "collapsed": false,
    "ExecuteTime": {
     "end_time": "2025-01-16T14:52:28.212644900Z",
     "start_time": "2025-01-16T14:52:28.075104500Z"
    }
   },
   "id": "85671ec62f19504c"
  },
  {
   "cell_type": "code",
   "execution_count": 34,
   "outputs": [
    {
     "name": "stdout",
     "output_type": "stream",
     "text": [
      "Skipping text parsing in Biden hails Gaza deal, says worked with Trump.csv: unterminated string literal (detected at line 1) (<unknown>, line 1)\n",
      "Skipping text parsing in Biden pointedly notes that he ‘introduced’ Israel-Hamas ceasefire deal after....csv: invalid character '“' (U+201C) (<unknown>, line 1)\n",
      "Skipping text parsing in Everything we know about North Korean soldiers captured by Ukraine.csv: invalid character '“' (U+201C) (<unknown>, line 1)\n",
      "Skipping text parsing in For LA water issues, misinformation spreads nearly as fast as the wildfires.csv: invalid character '“' (U+201C) (<unknown>, line 1)\n",
      "Skipping text parsing in France to decide response to Algeria 'hostility' as tensions mount - minister.csv: unterminated string literal (detected at line 1) (<unknown>, line 1)\n",
      "Skipping text parsing in France’s new prime minister hints at tearing up Macron’s state pension reforms.csv: invalid character '’' (U+2019) (<unknown>, line 1)\n",
      "Skipping text parsing in From Baptist churches to Buddhist temples, religious groups volunteer for fire....csv: invalid character '—' (U+2014) (<unknown>, line 1)\n",
      "Skipping text parsing in Hostage deal shows Hamas took Trump's 'hell to pay' threat seriously.csv: unterminated string literal (detected at line 1) (<unknown>, line 1)\n",
      "Skipping text parsing in How a digital tool brought Notre-Dame back to life in record time.csv: invalid syntax (<unknown>, line 1)\n",
      "Skipping text parsing in International community reacts to Israel and Hamas ceasefire deal.csv: invalid character '—' (U+2014) (<unknown>, line 1)\n",
      "Skipping text parsing in Israel and Hamas agree to ceasefire days before Trump takes power.csv: invalid character '“' (U+201C) (<unknown>, line 1)\n",
      "Skipping text parsing in Israel and Hamas reach deal on Gaza ceasefire, hostage release.csv: invalid decimal literal (<unknown>, line 1)\n",
      "Skipping text parsing in Israel, Hamas reach ceasefire after 15 months of brutal war in Gaza.csv: invalid character '“' (U+201C) (<unknown>, line 1)\n",
      "Skipping text parsing in Israel-Hamas ceasefire and hostage release deal reached.csv: unterminated string literal (detected at line 1) (<unknown>, line 1)\n",
      "Skipping text parsing in Israel-Hamas ceasefire must lead to 'political resolution' in Gaza, Macron says.csv: invalid character '’' (U+2019) (<unknown>, line 1)\n",
      "Skipping text parsing in Jill Biden discusses division with Nancy Pelosi, Notre Dame photo with Donald....csv: invalid character '”' (U+201D) (<unknown>, line 1)\n",
      "Skipping text parsing in Jill Biden Opens Up About 'Disappointing' Role Nancy Pelosi Played In Joe Biden....csv: invalid non-printable character U+00A0 (<unknown>, line 1)\n",
      "Skipping text parsing in Jill Biden reveals what transpired in viral moment with Trump at Notre Dame....csv: invalid character '’' (U+2019) (<unknown>, line 1)\n",
      "Skipping text parsing in Macron to visit Lebanon amid promises of renewed French support.csv: unterminated string literal (detected at line 1) (<unknown>, line 1)\n",
      "Skipping text parsing in Minnesota House DFL files lawsuit saying Republicans speaker election ‘unlawful’.csv: invalid character '’' (U+2019) (<unknown>, line 1)\n",
      "Skipping text parsing in NATO on red alert as Russia accused of 'plotting terror attacks'.csv: invalid syntax (<unknown>, line 1)\n",
      "Skipping text parsing in Pam Bondi refuses to say Trump lost 2020 election in confirmation hearing.csv: invalid character '’' (U+2019) (<unknown>, line 1)\n",
      "Skipping text parsing in Poland and Ukraine agree WWII massacre deal, discuss NATO guarantees.csv: unterminated string literal (detected at line 1) (<unknown>, line 1)\n",
      "Skipping text parsing in Poland’s Tusk Says Russia Planned Terror Acts Against Airlines.csv: invalid character '“' (U+201C) (<unknown>, line 1)\n",
      "Skipping text parsing in Polish PM Donald Tusk accuses Russia of planning acts of terrorism against....csv: invalid character '“' (U+201C) (<unknown>, line 1)\n",
      "Skipping text parsing in President Biden to Deliver His Farewell Address Tonight — Where to Watch.csv: invalid character '’' (U+2019) (<unknown>, line 1)\n",
      "Skipping text parsing in Russia planned 'acts of terrorism' in the air, Polish PM says.csv: unterminated string literal (detected at line 1) (<unknown>, line 1)\n",
      "Skipping text parsing in Stephen Miller preps House Republicans for Trump's immigration overhaul in....csv: invalid character '—' (U+2014) (<unknown>, line 1)\n",
      "Skipping text parsing in Takeaways from the second day of Trump Cabinet confirmation hearings.csv: invalid character '’' (U+2019) (<unknown>, line 1)\n",
      "Skipping text parsing in Trump credited for ceasefire breakthrough as US officials who resigned over Gaza....csv: invalid character '’' (U+2019) (<unknown>, line 1)\n",
      "Skipping text parsing in Trump Family and Friends Don’t Like Don Jr.’s New Girlfriend.csv: invalid character '’' (U+2019) (<unknown>, line 1)\n",
      "Skipping text parsing in Trump takes full credit for ‘EPIC’ ceasefire agreement between Israel and Hamas.csv: invalid character '“' (U+201C) (<unknown>, line 1)\n",
      "Skipping text parsing in Trump's AG pick Pam Bondi tells Senate 'There will never be an enemies list' in....csv: invalid decimal literal (<unknown>, line 1)\n",
      "Skipping text parsing in Trump-fuelled stock market rally sends Wall Street profits to record highs.csv: invalid character '’' (U+2019) (<unknown>, line 1)\n",
      "Skipping text parsing in UK and France in talks over sending peacekeeping troops to Ukraine.csv: invalid character '“' (U+201C) (<unknown>, line 1)\n",
      "Skipping text parsing in Ukraine and Poland finding 'common language' on WW2 dispute, says Tusk.csv: unterminated string literal (detected at line 1) (<unknown>, line 1)\n",
      "Skipping text parsing in Ukraine and Russia swap 50 prisoners.csv: invalid syntax (<unknown>, line 1)\n",
      "Skipping text parsing in What's on the ballot for Wisconsin's Feb. 18 primary and April 1 spring....csv: invalid character '—' (U+2014) (<unknown>, line 1)\n",
      "Skipping text parsing in Why California crews aren't relying on the ocean to douse wildfires.csv: invalid character '–' (U+2013) (<unknown>, line 1)\n",
      "Skipping text parsing in Zelensky says Ukraine has offered assistance on California wildfires.csv: invalid character '“' (U+201C) (<unknown>, line 1)\n",
      "Skipping text parsing in Zelenskyy, Macron discuss Western troop deployment in Ukraine before German....csv: invalid character '—' (U+2014) (<unknown>, line 1)\n"
     ]
    }
   ],
   "source": [
    "df_articles = create_df_articles()"
   ],
   "metadata": {
    "collapsed": false,
    "ExecuteTime": {
     "end_time": "2025-01-16T15:27:15.733944100Z",
     "start_time": "2025-01-16T15:27:15.526352Z"
    }
   },
   "id": "d8abb5e75de4702e"
  },
  {
   "cell_type": "code",
   "execution_count": 28,
   "outputs": [],
   "source": [
    "df_articles.to_csv('articles_dataframe.csv')"
   ],
   "metadata": {
    "collapsed": false,
    "ExecuteTime": {
     "end_time": "2025-01-16T15:18:53.178207600Z",
     "start_time": "2025-01-16T15:18:53.030511100Z"
    }
   },
   "id": "70feb1ed3761fa5e"
  },
  {
   "cell_type": "markdown",
   "source": [],
   "metadata": {
    "collapsed": false
   },
   "id": "d8e8a1f3b4bf4667"
  },
  {
   "cell_type": "code",
   "execution_count": 21,
   "outputs": [
    {
     "name": "stdout",
     "output_type": "stream",
     "text": [
      "No content found for URL: https://www.ibtimes.com/trump-nominee-destroying-democrat-adam-schiff-during-tense-exchange-praised-conservatives-3759417\n",
      "Content found for URL: https://www.yahoo.com/news/takeaways-second-day-trump-cabinet-183236043.html?fr=sycsrp_catchall, using class: col-body\n",
      "Content found for URL: https://www.foxnews.com/politics/stephen-miller-preps-house-republicans-trumps-immigration-overhaul-closed-door-meeting, using class: article-body\n",
      "Content found for URL: https://www.yahoo.com/news/trump-takes-full-credit-epic-174248292.html?fr=sycsrp_catchall, using class: col-body\n",
      "Content found for URL: https://www.yahoo.com/news/trump-credited-ceasefire-breakthrough-us-201425433.html?fr=sycsrp_catchall, using class: col-body\n",
      "No content found for URL: https://www.newsweek.com/jill-biden-donald-trump-notre-dame-conversation-2015671\n",
      "No content found for URL: https://www.krqe.com/news/politics/ap-trumps-pick-for-budget-director-wont-say-whether-he-would-release-ukraine-aid/\n",
      "Content found for URL: https://www.yahoo.com/news/trumps-ag-pick-pam-bondi-142915660.html?fr=sycsrp_catchall, using class: col-body\n",
      "No content found for URL: https://www.huffpost.com/entry/donald-trump-kristi-noem-dog-shooting-donald-trump-jr_n_678806c9e4b02f1db4f83362?yptr=yahoo\n",
      "Content found for URL: https://www.yahoo.com/entertainment/trump-family-friends-don-t-211404253.html?fr=sycsrp_catchall, using class: col-body\n",
      "Content found for URL: https://www.yahoo.com/news/israel-hamas-reach-ceasefire-15-172204182.html?fr=sycsrp_catchall, using class: col-body\n",
      "No content found for URL: https://abcnews.go.com/International/ceasefire-deal-reached-israel-hamas/story?id=106870619\n",
      "Content found for URL: https://www.yahoo.com/news/israel-gaza-ceasefire-live-hamas-191927982.html?fr=sycsrp_catchall, using class: col-body\n",
      "Content found for URL: https://www.yahoo.com/news/israel-hamas-agree-ceasefire-days-204620454.html?fr=sycsrp_catchall, using class: col-body\n",
      "Content found for URL: https://www.yahoo.com/news/israel-hamas-ceasefire-hostage-release-170724829.html?fr=sycsrp_catchall, using class: col-body\n",
      "Content found for URL: https://www.yahoo.com/news/trump-takes-full-credit-epic-174248292.html?fr=sycsrp_catchall, using class: col-body\n",
      "Content found for URL: https://www.yahoo.com/news/biden-says-israel-hamas-reached-185955561.html?fr=sycsrp_catchall, using class: col-body\n",
      "No content found for URL: https://www.upi.com/Top_News/World-News/2025/01/15/gaza-cease-fire-agreement/7601736968653/\n",
      "Content found for URL: https://www.foxnews.com/opinion/hostage-deal-shows-hamas-took-trumps-hell-pay-threat-seriously, using class: article-body\n",
      "Content found for URL: https://www.yahoo.com/news/israel-hamas-reach-deal-gaza-171359266.html?fr=sycsrp_catchall, using class: col-body\n",
      "Content found for URL: https://www.yahoo.com/news/uk-france-talks-over-sending-210000546.html?fr=sycsrp_catchall, using class: col-body\n",
      "Content found for URL: https://www.yahoo.com/news/qatar-announces-israel-hamas-ceasefire-200344264.html?fr=sycsrp_catchall, using class: col-body\n",
      "Content found for URL: https://www.yahoo.com/news/france-decide-response-algeria-hostility-160631078.html?fr=sycsrp_catchall, using class: col-body\n",
      "Content found for URL: https://www.yahoo.com/tech/digital-tool-brought-notre-dame-170609147.html, using class: col-body\n",
      "Content found for URL: https://www.yahoo.com/news/zelenskyy-macron-discuss-western-troop-103945932.html?fr=sycsrp_catchall, using class: col-body\n",
      "Content found for URL: https://www.yahoo.com/news/france-prime-minister-vows-tear-101751005.html?fr=sycsrp_catchall, using class: col-body\n",
      "No content found for URL: https://okmagazine.com/p/emmanuel-macron-legal-letter-wife-doesnt-owe-candace-owens-proof-woman/\n",
      "Content found for URL: https://www.yahoo.com/news/macron-visit-lebanon-amid-promises-070909423.html?fr=sycsrp_catchall, using class: col-body\n",
      "Content found for URL: https://www.foxnews.com/media/jill-biden-reveals-what-transpired-viral-moment-trump-notre-dame-cathedral, using class: article-body\n",
      "No content found for URL: https://www.newsweek.com/zelensky-macron-mull-practical-steps-deploy-peacekeepers-ukraine-2014503\n",
      "Content found for URL: https://www.aol.com/ukraine-russia-war-live-frontline-144843397.html, using class: caas-body\n",
      "No content found for URL: https://www.newsweek.com/polands-tusk-accuses-russia-planning-global-airline-terror-2015317\n",
      "No content found for URL: https://www.newsweek.com/polands-tusk-pledges-ukraines-eu-membership-during-presidency-2015268\n",
      "Content found for URL: https://www.yahoo.com/news/russia-planned-acts-terrorism-air-134049020.html?fr=sycsrp_catchall, using class: col-body\n",
      "Content found for URL: https://www.yahoo.com/news/poland-tusk-says-russia-planned-162111532.html?fr=sycsrp_catchall, using class: col-body\n",
      "Content found for URL: https://www.yahoo.com/news/poland-ukraine-agree-wwii-massacre-165016569.html?fr=sycsrp_catchall, using class: col-body\n",
      "Content found for URL: https://www.aol.com/polish-pm-donald-tusk-accuses-155459437.html, using class: caas-body\n",
      "Content found for URL: https://www.express.co.uk/news/world/2000987/russia-terror-attacks-airlines, using class: text-description\n",
      "Content found for URL: https://www.yahoo.com/news/uk-france-talks-over-sending-210000546.html?fr=sycsrp_catchall, using class: col-body\n",
      "Content found for URL: https://www.yahoo.com/news/ukraines-zelenskiy-visits-warsaw-wednesday-054828623.html?fr=sycsrp_catchall, using class: col-body\n",
      "No content found for URL: https://www.ibtimes.com/trump-nominee-destroying-democrat-adam-schiff-during-tense-exchange-praised-conservatives-3759417\n",
      "Content found for URL: https://www.yahoo.com/news/whats-ballot-wisconsins-feb-18-110241087.html?fr=sycsrp_catchall, using class: col-body\n",
      "Content found for URL: https://www.yahoo.com/news/house-speaker-vote-live-updates-095919421.html?fr=sycsrp_catchall, using class: col-body\n",
      "Content found for URL: https://finance.yahoo.com/news/trump-fuelled-stock-market-rally-192830548.html?fr=sycsrp_catchall, using class: body yf-tsvcyu\n",
      "Content found for URL: https://www.yahoo.com/news/israel-hamas-agree-ceasefire-days-204620454.html?fr=sycsrp_catchall, using class: col-body\n",
      "Content found for URL: https://www.yahoo.com/news/pam-bondi-refuses-trump-lost-171758504.html?fr=sycsrp_catchall, using class: col-body\n",
      "Content found for URL: https://www.yahoo.com/news/minnesota-house-dfl-files-lawsuit-202300615.html?fr=sycsrp_catchall, using class: col-body\n",
      "No content found for URL: https://www.adn.com/alaska-news/mat-su/2025/01/15/mat-su-assembly-to-consider-ban-on-ballot-counting-machines/\n",
      "No content found for URL: https://www.texomashomepage.com/news/political-news/ap-head-of-us-cybersecurity-agency-says-she-hopes-it-keeps-up-election-work-under-trump/\n",
      "Content found for URL: https://www.yahoo.com/news/poland-ukraine-agree-wwii-massacre-165016569.html?fr=sycsrp_catchall, using class: col-body\n",
      "No content found for URL: https://www.newsweek.com/volodymyr-zelensky-ukraine-north-korea-prisoners-war-captured-video-2015146\n",
      "Content found for URL: https://www.aol.com/everything-know-north-korean-soldiers-131651121.html, using class: caas-body\n",
      "Content found for URL: https://www.yahoo.com/news/zelensky-says-ukraine-offered-assistance-215156236.html?fr=sycsrp_catchall, using class: col-body\n",
      "Content found for URL: https://www.yahoo.com/news/uk-france-talks-over-sending-210000546.html?fr=sycsrp_catchall, using class: col-body\n",
      "Content found for URL: https://www.aol.com/ukraine-russia-war-live-frontline-144843397.html, using class: caas-body\n",
      "Content found for URL: https://www.yahoo.com/news/ukraine-russia-swap-50-prisoners-173524914.html?fr=sycsrp_catchall, using class: col-body\n",
      "No content found for URL: https://www.newsweek.com/zelensky-macron-mull-practical-steps-deploy-peacekeepers-ukraine-2014503\n",
      "Content found for URL: https://www.aol.com/polish-pm-donald-tusk-accuses-155459437.html, using class: caas-body\n",
      "No content found for URL: https://www.newser.com/story/362548/zelensky-russia-carried-out-massive-attack-in-ukraine.html\n",
      "Content found for URL: https://www.yahoo.com/news/israel-hamas-reach-ceasefire-15-172204182.html?fr=sycsrp_catchall, using class: col-body\n",
      "No content found for URL: https://abcnews.go.com/International/ceasefire-deal-reached-israel-hamas/story?id=106870619\n",
      "Content found for URL: https://www.yahoo.com/news/israel-gaza-ceasefire-live-hamas-191927982.html?fr=sycsrp_catchall, using class: col-body\n",
      "Content found for URL: https://www.yahoo.com/news/israel-hamas-ceasefire-hostage-release-170724829.html?fr=sycsrp_catchall, using class: col-body\n",
      "Content found for URL: https://www.yahoo.com/news/israel-hamas-agree-ceasefire-days-204620454.html?fr=sycsrp_catchall, using class: col-body\n",
      "Content found for URL: https://www.yahoo.com/news/biden-says-israel-hamas-reached-185955561.html?fr=sycsrp_catchall, using class: col-body\n",
      "No content found for URL: https://www.upi.com/Top_News/World-News/2025/01/15/gaza-cease-fire-agreement/7601736968653/\n",
      "Content found for URL: https://www.yahoo.com/news/international-community-reacts-israel-hamas-204400444.html?fr=sycsrp_catchall, using class: col-body\n",
      "Content found for URL: https://www.yahoo.com/news/israel-hamas-reach-deal-gaza-171359266.html?fr=sycsrp_catchall, using class: col-body\n",
      "Content found for URL: https://www.yahoo.com/news/analysis-ocean-carriers-return-red-210858581.html?fr=sycsrp_catchall, using class: col-body\n",
      "No content found for URL: https://abcnews.go.com/Politics/biden-trump-seek-credit-ceasefire-hostages-deal-israel/story?id=117710147\n",
      "No content found for URL: https://www.newsweek.com/jill-biden-donald-trump-notre-dame-conversation-2015671\n",
      "No content found for URL: https://www.axios.com/2025/01/15/joe-biden-speech-tonight-time-farewell-address\n",
      "Content found for URL: https://www.yahoo.com/news/jill-biden-discusses-division-nancy-205003304.html?fr=sycsrp_catchall, using class: col-body\n",
      "Content found for URL: https://www.foxnews.com/politics/biden-balks-asked-trump-deserves-credit-israel-hamas-cease-fire-deal-joke, using class: article-body\n",
      "Error processing URL https://www.foxnews.com/politics/biden-balks-asked-trump-deserves-credit-israel-hamas-cease-fire-deal-joke: [Errno 13] Permission denied: 'articles/Biden balks when asked if Trump deserves credit for Israel-Hamas cease-fire....csv'\n",
      "Content found for URL: https://www.yahoo.com/news/biden-deliver-farewell-address-tonight-200052323.html?fr=sycsrp_catchall, using class: col-body\n",
      "Content found for URL: https://www.yahoo.com/news/biden-hails-gaza-deal-says-194625615.html?fr=sycsrp_catchall, using class: col-body\n",
      "No content found for URL: https://www.ibtimes.com/president-biden-us-hostages-gaza-ceasefire-deal-3759404\n",
      "Content found for URL: https://www.yahoo.com/news/jill-biden-opens-disappointing-role-202829830.html?fr=sycsrp_catchall, using class: col-body\n",
      "No content found for URL: https://www.nydailynews.com/2025/01/15/jill-biden-feels-betrayed-by-nancy-pelosi-interview/\n",
      "No content found for URL: https://www.newsweek.com/california-wildfires-update-homeowners-face-property-tax-shock-2015601\n",
      "Content found for URL: https://www.yahoo.com/news/caused-la-wildfires-heres-know-191112149.html?fr=sycsrp_catchall, using class: col-body\n",
      "Error processing URL https://www.yahoo.com/news/caused-la-wildfires-heres-know-191112149.html?fr=sycsrp_catchall: [Errno 22] Invalid argument: \"articles/What caused the LA wildfires? Here's what we know about the possible origins..csv\"\n",
      "Content found for URL: https://www.yahoo.com/news/opinion-disaster-relief-california-wildfires-183253286.html?fr=sycsrp_catchall, using class: col-body\n",
      "Error processing URL https://www.yahoo.com/news/opinion-disaster-relief-california-wildfires-183253286.html?fr=sycsrp_catchall: [Errno 22] Invalid argument: 'articles/Opinion | Disaster relief for the California wildfires should not come with....csv'\n",
      "Content found for URL: https://www.aol.com/tedious-dirty-not-fun-searching-193058441.html, using class: caas-body\n",
      "Content found for URL: https://www.yahoo.com/news/los-angeles-fires-bring-risks-111817109.html?fr=sycsrp_catchall, using class: col-body\n",
      "Content found for URL: https://www.yahoo.com/news/why-california-crews-arent-relying-211111912.html?fr=sycsrp_catchall, using class: col-body\n",
      "Content found for URL: https://www.yahoo.com/news/baptist-churches-buddhist-temples-religious-210445478.html?fr=sycsrp_catchall, using class: col-body\n",
      "Content found for URL: https://www.yahoo.com/news/la-water-issues-misinformation-spreads-210229267.html?fr=sycsrp_catchall, using class: col-body\n",
      "No content found for URL: https://www.newsweek.com/los-angeles-continues-face-air-quality-warnings-amid-wildfires-2015596\n",
      "No content found for URL: https://www.marketwatch.com/story/california-wildfires-could-slow-the-economy-and-boost-inflation-and-thats-not-even-the-worst-of-it-economists-say-85d2b276\n"
     ]
    }
   ],
   "source": [
    "get_article_by_link(df)"
   ],
   "metadata": {
    "collapsed": false,
    "ExecuteTime": {
     "end_time": "2025-01-16T15:10:48.281360600Z",
     "start_time": "2025-01-16T15:09:36.572559200Z"
    }
   },
   "id": "9d8d3d4d9fed90f"
  },
  {
   "cell_type": "code",
   "execution_count": 29,
   "outputs": [
    {
     "data": {
      "text/plain": "'[\\'President Biden had a curt response to a question posed by Fox News senior White House correspondent Jacqui Heinrich on Wednesday regarding whether President-elect Trump deserves credit for the recent Israel-Hamas cease-fire deal.\\', \\'President Biden balked at a question posed by Fox News senior White House correspondent Jacqui Heinrich on Wednesday about whether President-elect Trump deserves credit for the recent Israel-Hamas cease-fire deal.\\', \"The deal comes during Biden\\'s final days in office, less than a week before Trump\\'s second term starts on Jan. 20. A recent meeting between Israeli Prime Minister Benjamin Netanyahu and Trump\\'s incoming Middle East envoy, Steve Witkoff, was reportedly an integral part of the deal, sources told Fox News Digital.\", \\'\"Who in the history books gets credit for this, Mr. President, you or Trump?\" Heinrich asked Biden at Wednesday afternoon\\\\\\'s White House news conference.\\', \\'\"Is that a joke?\" the president responded.\\', \"ISRAEL SENDS REPORT TO UN ON \\'BRUTAL\\' TREATMENT USED BY TERRORISTS AGAINST HOSTAGES IN GAZA\", \\'When Heinrich denied that her question was in jest, Biden responded, \"Oh. Thank you,\" and walked away.\\', \\'President Biden, flanked by Vice President Kamala Harris and Secretary of State Antony Blinken, speaks about the Israel-Hamas cease-fire and hostage release deal at the White House in Washington, D.C., on Wednesday. (Roberto Schmidt/AFP via Getty Images)\\', \\'Minutes earlier, Biden explained that the cease-fire would consist of two phases. The first phase, which will last around six weeks, \"includes a full and complete cease-fire, withdrawal of Israeli forces from all the populated areas of Gaza, and the release of a number of hostages held by Hamas, including women and elderly and the wounded.\"\\\\xa0\\', \\'\"And I\\\\\\'m proud to say Americans will be part of that hostage release and phase one as well,\" the president said. \"And the vice president and I cannot wait to welcome them home.\"\\', \\'Israel has also released hundreds of Palestinian prisoners, Biden said, and Palestinians \"can also return to their neighborhoods in all areas of Gaza, and a surge of humanitarian assistance into Gaza will begin.\" The second phase of the cease-fire will begin after Israel negotiates \"the necessary arrangements,\" which Biden said would mark \"a permanent end of the war.\"\\', \\'\"There are a number of details to negotiate the move from phase one to phase two,\" he continued. \"But the plan says if negotiations take longer than six weeks, the cease-fire will continue as long as the negotiations continue.\"\\', \"FOX NEWS GETS AN INSIDE LOOK AT IDF\\'S WAR AGAINST HAMAS\", \\'Relatives and friends of people killed and abducted by Hamas and taken into Gaza react to the ceasefire announcement as they take part in a demonstration in Tel Aviv, Israel, on Wednesday. (AP Photo/Oded Balilty)\\', \\'Weeks ago, Trump warned that there would be \"hell to pay\" if there were no significant developments with a hostage deal by the time he took office.\\', \\'\"Everybody is talking about the hostages who are being held so violently, inhumanely, and against the will of the entire World, in the Middle East – But it’s all talk, and no action!\" Trump wrote in a Truth Social post.\\\\xa0\\', \\'\"Please let this TRUTH serve to represent that if the hostages are not released prior to January 20, 2025, the date that I proudly assume Office as President of the United States, there will be ALL HELL TO PAY in the Middle East, and for those in charge who perpetrated these atrocities against Humanity,\" Trump added.\\\\xa0\\', \"Shortly after Biden announced the deal, State Department spokesman Matthew Miller acknowledged the role that Trump\\'s team played in the negotiations and thanked them.\", \\'\"I don\\\\\\'t know if it\\\\\\'s unprecedented to have envoys from an outgoing and an incoming administration sitting at the same table negotiating a cease-fire agreement of this kind,\" Miller said Wednesday. \"But if it\\\\\\'s not unprecedented, it\\\\\\'s certainly unusual.\"\\', \\'\\\\xa0CLICK HERE TO GET THE FOX NEWS APP\\', \\'President Biden delivers remarks on the recently announced cease-fire deal between Israel and Hamas in Washington, D.C., on Wednesday. (Anna Moneymaker/Getty Images)\\', \\'\"And, we, of course, thank the Trump team for working with this on this cease-fire agreement. We think it\\\\\\'s important that they were at the table.\"\\', \"Fox News Digital\\'s Danielle Wallace, Greg Norman, Trey Yingst, Brooke Curto, Efrat Lachter and Sophia Compton contributed to this report.\", \\'Andrea Margolis is a writer for Fox News Digital and Fox Business. Readers can send story tips to andrea.margolis@fox.com.\\']'"
     },
     "execution_count": 29,
     "metadata": {},
     "output_type": "execute_result"
    }
   ],
   "source": [
    "df_articles['text'].iloc[0]"
   ],
   "metadata": {
    "collapsed": false,
    "ExecuteTime": {
     "end_time": "2025-01-16T15:18:56.217188400Z",
     "start_time": "2025-01-16T15:18:56.065796200Z"
    }
   },
   "id": "8e1ddab729edc70f"
  },
  {
   "cell_type": "code",
   "execution_count": null,
   "outputs": [],
   "source": [],
   "metadata": {
    "collapsed": false
   },
   "id": "2f4c9bab6f96947c"
  }
 ],
 "metadata": {
  "kernelspec": {
   "display_name": "Python 3",
   "language": "python",
   "name": "python3"
  },
  "language_info": {
   "codemirror_mode": {
    "name": "ipython",
    "version": 2
   },
   "file_extension": ".py",
   "mimetype": "text/x-python",
   "name": "python",
   "nbconvert_exporter": "python",
   "pygments_lexer": "ipython2",
   "version": "2.7.6"
  }
 },
 "nbformat": 4,
 "nbformat_minor": 5
}
